{
 "cells": [
  {
   "cell_type": "code",
   "execution_count": 13,
   "metadata": {},
   "outputs": [],
   "source": [
    "import numpy as np\n",
    "\n",
    "def check_winner(record_moves):\n",
    "    board = np.zeros([3,3])\n",
    "    player1 = 1\n",
    "    player2 = -1\n",
    "\n",
    "    for i, position in enumerate(record_moves):\n",
    "        if i%2 == 0:\n",
    "            board[position]=player1\n",
    "        else:\n",
    "            board[position]=player2\n",
    "\n",
    "    for row in board:\n",
    "        if all(cell == player1 for cell in row):\n",
    "            return player1\n",
    "        elif all(cell == player2 for cell in row):\n",
    "            return player2\n",
    "\n",
    "    for col in range(len(board[0])):\n",
    "        if all(row[col] == player1 for row in board):\n",
    "            return player1\n",
    "        elif all(row[col] == player2 for row in board):\n",
    "            return player2\n",
    "        \n",
    "    if all(board[i][i] == player1 for i in range(len(board))) or \\\n",
    "       all(board[i][len(board) - i - 1] == player1 for i in range(len(board))):\n",
    "        return player1\n",
    "    elif all(board[i][i] == player2 for i in range(len(board))) or \\\n",
    "       all(board[i][len(board) - i - 1] == player2 for i in range(len(board))):\n",
    "        return player2\n",
    "\n",
    "    return 0\n",
    "\n",
    "class ticTacToe():\n",
    "    def __init__(self):\n",
    "        self.positions = [(0, 0), (0, 1), (0, 2), (1, 0), (1, 1), (1, 2), (2, 0), (2, 1), (2, 2)]\n",
    "        self.outcomes = []\n",
    "    def reset \n",
    "    def evaluation_moves(self, record_moves, move):\n",
    "        if move:\n",
    "            record_moves.append(move)\n",
    "        winner = check_winner(record_moves)\n",
    "        if winner == 0 and len(record_moves) < 9:\n",
    "            for position in self.positions:\n",
    "                if not(position in record_moves):\n",
    "                    self.evaluation_moves(record_moves.copy() , position)    \n",
    "        else:\n",
    "            self.outcomes.append([record_moves, winner])\n",
    "    def step(self, move, num_step):\n",
    "        # copy_outcomes = self.outcomes.copy()\n",
    "        maked_moves = []\n",
    "        for outcome in self.outcomes:\n",
    "            if outcome[0][num_step] == move:\n",
    "                maked_moves.append(outcome)\n",
    "        self.outcomes = maked_moves\n",
    "        print(self.outcomes)\n",
    "        next_moves = []\n",
    "        for position in self.positions:\n",
    "            num_variable_steps = 0\n",
    "            next_move = 0\n",
    "            for outcome in self.outcomes:\n",
    "                if outcome[0][num_step+1] == position:\n",
    "                    num_variable_steps += 1\n",
    "                    next_move += outcome[1]\n",
    "            if next_move != 0 and num_variable_steps != 0:\n",
    "                next_move = next_move / num_variable_steps\n",
    "            next_moves.append(next_move)\n",
    "        print(next_moves)\n",
    "\n",
    "            \n",
    "env = ticTacToe()\n",
    "\n",
    "env.evaluation_moves([], None)\n",
    "\n",
    "\n",
    "\n",
    "\n",
    "# print(env.outcomes)\n"
   ]
  },
  {
   "cell_type": "code",
   "execution_count": 17,
   "metadata": {},
   "outputs": [
    {
     "name": "stdout",
     "output_type": "stream",
     "text": [
      "[[[(0, 0), (1, 1), (0, 1), (1, 0), (2, 2), (0, 2), (1, 2), (2, 0)], -1], [[(0, 0), (1, 1), (0, 1), (1, 0), (2, 2), (0, 2), (1, 2), (2, 1), (2, 0)], 0], [[(0, 0), (1, 1), (0, 1), (1, 0), (2, 2), (0, 2), (2, 0), (1, 2)], -1], [[(0, 0), (1, 1), (0, 1), (1, 0), (2, 2), (0, 2), (2, 0), (2, 1), (1, 2)], 0], [[(0, 0), (1, 1), (0, 1), (1, 0), (2, 2), (0, 2), (2, 1), (1, 2)], -1], [[(0, 0), (1, 1), (0, 1), (1, 0), (2, 2), (0, 2), (2, 1), (2, 0)], -1], [[(0, 0), (1, 1), (0, 1), (1, 0), (2, 2), (1, 2)], -1], [[(0, 0), (1, 1), (0, 1), (1, 0), (2, 2), (2, 0), (0, 2)], 1], [[(0, 0), (1, 1), (0, 1), (1, 0), (2, 2), (2, 0), (1, 2), (0, 2)], -1], [[(0, 0), (1, 1), (0, 1), (1, 0), (2, 2), (2, 0), (1, 2), (2, 1), (0, 2)], 1], [[(0, 0), (1, 1), (0, 1), (1, 0), (2, 2), (2, 0), (2, 1), (0, 2)], -1], [[(0, 0), (1, 1), (0, 1), (1, 0), (2, 2), (2, 0), (2, 1), (1, 2)], -1], [[(0, 0), (1, 1), (0, 1), (1, 0), (2, 2), (2, 1), (0, 2)], 1], [[(0, 0), (1, 1), (0, 1), (1, 0), (2, 2), (2, 1), (1, 2), (0, 2), (2, 0)], 0], [[(0, 0), (1, 1), (0, 1), (1, 0), (2, 2), (2, 1), (1, 2), (2, 0), (0, 2)], 1], [[(0, 0), (1, 1), (0, 1), (1, 0), (2, 2), (2, 1), (2, 0), (0, 2), (1, 2)], 0], [[(0, 0), (1, 1), (0, 1), (1, 0), (2, 2), (2, 1), (2, 0), (1, 2)], -1]]\n",
      "[0, -0.29411764705882354, 0, 0, 0, 0, 0, 0, 0]\n"
     ]
    }
   ],
   "source": [
    "\n",
    "env.step((1,1), 1)\n"
   ]
  },
  {
   "cell_type": "code",
   "execution_count": 15,
   "metadata": {},
   "outputs": [
    {
     "ename": "AttributeError",
     "evalue": "'ticTacToe' object has no attribute 'exodus'",
     "output_type": "error",
     "traceback": [
      "\u001b[1;31m---------------------------------------------------------------------------\u001b[0m",
      "\u001b[1;31mAttributeError\u001b[0m                            Traceback (most recent call last)",
      "\u001b[1;32mc:\\Users\\fluke\\Documents\\Code\\ticTacToe-neuro-python\\monte-karlo.ipynb Cell 3\u001b[0m line \u001b[0;36m1\n\u001b[1;32m----> <a href='vscode-notebook-cell:/c%3A/Users/fluke/Documents/Code/ticTacToe-neuro-python/monte-karlo.ipynb#W2sZmlsZQ%3D%3D?line=0'>1</a>\u001b[0m \u001b[39mlen\u001b[39m(env\u001b[39m.\u001b[39;49mexodus)\n",
      "\u001b[1;31mAttributeError\u001b[0m: 'ticTacToe' object has no attribute 'exodus'"
     ]
    }
   ],
   "source": [
    "len(env.exodus)"
   ]
  },
  {
   "cell_type": "code",
   "execution_count": null,
   "metadata": {},
   "outputs": [],
   "source": [
    "env.exodus[0][0][0]"
   ]
  }
 ],
 "metadata": {
  "kernelspec": {
   "display_name": "Python 3",
   "language": "python",
   "name": "python3"
  },
  "language_info": {
   "codemirror_mode": {
    "name": "ipython",
    "version": 3
   },
   "file_extension": ".py",
   "mimetype": "text/x-python",
   "name": "python",
   "nbconvert_exporter": "python",
   "pygments_lexer": "ipython3",
   "version": "3.11.6"
  }
 },
 "nbformat": 4,
 "nbformat_minor": 2
}
