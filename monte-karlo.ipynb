{
 "cells": [
  {
   "cell_type": "code",
   "execution_count": 64,
   "metadata": {},
   "outputs": [],
   "source": [
    "import numpy as np\n",
    "\n",
    "def check_winner(record_moves):\n",
    "    board = np.zeros([3,3])\n",
    "    player1 = 1\n",
    "    player2 = -1\n",
    "\n",
    "    for i, position in enumerate(record_moves):\n",
    "        if i%2 == 0:\n",
    "            board[position]=player1\n",
    "        else:\n",
    "            board[position]=player2\n",
    "\n",
    "    for row in board:\n",
    "        if all(cell == player1 for cell in row):\n",
    "            return player1\n",
    "        elif all(cell == player2 for cell in row):\n",
    "            return player2\n",
    "\n",
    "    for col in range(len(board[0])):\n",
    "        if all(row[col] == player1 for row in board):\n",
    "            return player1\n",
    "        elif all(row[col] == player2 for row in board):\n",
    "            return player2\n",
    "        \n",
    "    if all(board[i][i] == player1 for i in range(len(board))) or \\\n",
    "       all(board[i][len(board) - i - 1] == player1 for i in range(len(board))):\n",
    "        return player1\n",
    "    elif all(board[i][i] == player2 for i in range(len(board))) or \\\n",
    "       all(board[i][len(board) - i - 1] == player2 for i in range(len(board))):\n",
    "        return player2\n",
    "\n",
    "    return 0\n",
    "\n",
    "class ticTacToe():\n",
    "    def __init__(self):\n",
    "        self.positions = [(0, 0), (0, 1), (0, 2), (1, 0), (1, 1), (1, 2), (2, 0), (2, 1), (2, 2)]\n",
    "        self.outcomes = []\n",
    "    def make_copy_outcomes(self):\n",
    "        self.copy_outcomes = self.outcomes.copy()\n",
    "    def evaluation_all_outcomes(self, record_moves, move):\n",
    "        if move:\n",
    "            record_moves.append(move)\n",
    "        winner = check_winner(record_moves)\n",
    "        if winner == 0 and len(record_moves) < 9:\n",
    "            for position in self.positions:\n",
    "                if not(position in record_moves):\n",
    "                    self.evaluation_all_outcomes(record_moves.copy() , position)    \n",
    "        else:\n",
    "            self.outcomes.append([record_moves, winner])\n",
    "    def render(self, record_moves):\n",
    "        board = np.zeros([3,3])\n",
    "        for index, move in enumerate(record_moves):\n",
    "            if index%2==0:\n",
    "                board[move]=1\n",
    "            else:\n",
    "                board[move]=-1\n",
    "        print(board)\n",
    "\n",
    "    def choose_next_step(self, record_moves):\n",
    "        maked_moves = []\n",
    "        for outcome in self.outcomes:\n",
    "            Flag = True\n",
    "            for index, move in enumerate(record_moves):\n",
    "                if outcome[0][index] != move: \n",
    "                    Flag = False\n",
    "            if Flag:\n",
    "                maked_moves.append(outcome)\n",
    "\n",
    "        next_moves = []\n",
    "\n",
    "        if len(record_moves)%2 == 0:\n",
    "            player = 1\n",
    "        else:\n",
    "            player = 2\n",
    "\n",
    "        for position in self.positions:\n",
    "            if position not in record_moves:\n",
    "                \n",
    "                num_variable_steps = 0\n",
    "                next_move = 0\n",
    "                for outcome in maked_moves:\n",
    "                    if len(outcome[0]) > len(record_moves) and outcome[0][len(record_moves)] == position:\n",
    "                        num_variable_steps += 1\n",
    "                        next_move += outcome[1]\n",
    "                if num_variable_steps != 0:\n",
    "                    next_move = next_move / num_variable_steps\n",
    "                next_moves.append(next_move)\n",
    "            else:\n",
    "                if player == 1:\n",
    "                    next_moves.append(-10)\n",
    "                else:\n",
    "                    next_moves.append(10)\n",
    "\n",
    "        print(np.array(next_moves).reshape(3,3))\n",
    "        \n",
    "        if player == 1:\n",
    "            print(np.argmax(np.array(next_moves).reshape(3,3)))\n",
    "            return self.positions[np.argmax(np.array(next_moves))]\n",
    "        else:\n",
    "            print(np.argmin(np.array(next_moves).reshape(3,3)))\n",
    "            return self.positions[np.argmin(np.array(next_moves))]\n",
    "\n",
    "        \n",
    "\n",
    "            \n",
    "env = ticTacToe()\n",
    "\n",
    "env.evaluation_all_outcomes([], None)\n",
    "env.make_copy_outcomes()\n",
    "\n",
    "\n",
    "\n"
   ]
  },
  {
   "cell_type": "code",
   "execution_count": 74,
   "metadata": {},
   "outputs": [
    {
     "data": {
      "text/plain": [
       "array([[0, 0],\n",
       "       [0, 1],\n",
       "       [0, 2],\n",
       "       [1, 0],\n",
       "       [1, 1],\n",
       "       [1, 2],\n",
       "       [2, 0],\n",
       "       [2, 1],\n",
       "       [2, 2]])"
      ]
     },
     "execution_count": 74,
     "metadata": {},
     "output_type": "execute_result"
    }
   ],
   "source": [
    "np.array(env.positions)\n"
   ]
  },
  {
   "cell_type": "code",
   "execution_count": 65,
   "metadata": {},
   "outputs": [
    {
     "name": "stdout",
     "output_type": "stream",
     "text": [
      "[[  0.42857143 -10.           0.61904762]\n",
      " [  0.         -10.         -10.        ]\n",
      " [  0.33333333 -10.           0.55555556]]\n",
      "2\n",
      "[[ 0. -1.  0.]\n",
      " [ 0.  1. -1.]\n",
      " [ 0.  1.  0.]]\n"
     ]
    }
   ],
   "source": [
    "env.choose_next_step([(1,1), (1,2), (2,1), (0,1) ])\n",
    "env.render([(1,1), (1,2), (2,1), (0,1) ])\n",
    "\n"
   ]
  },
  {
   "cell_type": "code",
   "execution_count": 10,
   "metadata": {},
   "outputs": [
    {
     "ename": "AttributeError",
     "evalue": "'ticTacToe' object has no attribute 'step'",
     "output_type": "error",
     "traceback": [
      "\u001b[1;31m---------------------------------------------------------------------------\u001b[0m",
      "\u001b[1;31mAttributeError\u001b[0m                            Traceback (most recent call last)",
      "\u001b[1;32mc:\\Users\\fluke\\Documents\\Code\\ticTacToe-neuro-python\\monte-karlo.ipynb Cell 2\u001b[0m line \u001b[0;36m1\n\u001b[1;32m----> <a href='vscode-notebook-cell:/c%3A/Users/fluke/Documents/Code/ticTacToe-neuro-python/monte-karlo.ipynb#W1sZmlsZQ%3D%3D?line=0'>1</a>\u001b[0m env\u001b[39m.\u001b[39;49mstep((\u001b[39m1\u001b[39m,\u001b[39m1\u001b[39m), \u001b[39m1\u001b[39m)\n",
      "\u001b[1;31mAttributeError\u001b[0m: 'ticTacToe' object has no attribute 'step'"
     ]
    }
   ],
   "source": []
  },
  {
   "cell_type": "code",
   "execution_count": null,
   "metadata": {},
   "outputs": [
    {
     "ename": "AttributeError",
     "evalue": "'ticTacToe' object has no attribute 'exodus'",
     "output_type": "error",
     "traceback": [
      "\u001b[1;31m---------------------------------------------------------------------------\u001b[0m",
      "\u001b[1;31mAttributeError\u001b[0m                            Traceback (most recent call last)",
      "\u001b[1;32mc:\\Users\\fluke\\Documents\\Code\\ticTacToe-neuro-python\\monte-karlo.ipynb Cell 3\u001b[0m line \u001b[0;36m1\n\u001b[1;32m----> <a href='vscode-notebook-cell:/c%3A/Users/fluke/Documents/Code/ticTacToe-neuro-python/monte-karlo.ipynb#W2sZmlsZQ%3D%3D?line=0'>1</a>\u001b[0m \u001b[39mlen\u001b[39m(env\u001b[39m.\u001b[39;49mexodus)\n",
      "\u001b[1;31mAttributeError\u001b[0m: 'ticTacToe' object has no attribute 'exodus'"
     ]
    }
   ],
   "source": []
  },
  {
   "cell_type": "code",
   "execution_count": null,
   "metadata": {},
   "outputs": [],
   "source": []
  }
 ],
 "metadata": {
  "kernelspec": {
   "display_name": "Python 3",
   "language": "python",
   "name": "python3"
  },
  "language_info": {
   "codemirror_mode": {
    "name": "ipython",
    "version": 3
   },
   "file_extension": ".py",
   "mimetype": "text/x-python",
   "name": "python",
   "nbconvert_exporter": "python",
   "pygments_lexer": "ipython3",
   "version": "3.11.6"
  }
 },
 "nbformat": 4,
 "nbformat_minor": 2
}
